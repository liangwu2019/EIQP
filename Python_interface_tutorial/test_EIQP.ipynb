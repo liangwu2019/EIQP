{
 "cells": [
  {
   "cell_type": "code",
   "execution_count": 1,
   "metadata": {},
   "outputs": [],
   "source": [
    "import numpy as np\n",
    "import ctypes\n",
    "import subprocess\n",
    "\n",
    "# First, compiple EIQP_p.c to EIQP.so in Linux\n",
    "cmd = [\"gcc\", \"EIQP_p.c\", \"-o\", \"EIQP.so\", \"-O3\", \"-lblas\", \"-llapack\", \"-llapacke\", \"-shared\", \"-fPIC\"]\n",
    "subprocess.run(cmd)\n",
    "\n",
    "# Second, define the Python structure related to the output of EIQP solver\n",
    "clib = ctypes.CDLL(\"./EIQP.so\")\n",
    "clib.EIQP.argtypes = [\n",
    "    ctypes.POINTER(ctypes.c_double), # input: Q\n",
    "    ctypes.POINTER(ctypes.c_double), # input: c\n",
    "    ctypes.POINTER(ctypes.c_double), # input: A\n",
    "    ctypes.POINTER(ctypes.c_double), # input: b\n",
    "    ctypes.c_double, # input: epsilon\n",
    "    ctypes.c_int, # n\n",
    "    ctypes.c_int, # m\n",
    "    ctypes.POINTER(ctypes.c_double) # output: z\n",
    "]\n",
    "clib.EIQP.restype = ctypes.c_int # output: status"
   ]
  },
  {
   "cell_type": "code",
   "execution_count": 2,
   "metadata": {},
   "outputs": [
    {
     "name": "stdout",
     "output_type": "stream",
     "text": [
      "1\n",
      "[9.99980090e-01 7.99999998e-01 5.99999999e-01 4.00000000e-01\n",
      " 2.00000001e-01 1.99100987e-05]\n"
     ]
    }
   ],
   "source": [
    "n = 6\n",
    "m = 6\n",
    "Q = np.eye(n)\n",
    "c = np.array([[-1.0],[-0.8],[-0.6],[-0.4],[-0.2],[0.0]])\n",
    "A = -np.eye(m)\n",
    "b = -np.ones(m)\n",
    "z = np.zeros(Q.shape[0],dtype=np.float64)\n",
    "\n",
    "# Third, here is to call EIQP\n",
    "Q_ptr = Q.ctypes.data_as(ctypes.POINTER(ctypes.c_double))\n",
    "c_ptr = c.ctypes.data_as(ctypes.POINTER(ctypes.c_double))\n",
    "A_ptr = A.ctypes.data_as(ctypes.POINTER(ctypes.c_double))\n",
    "b_ptr = b.ctypes.data_as(ctypes.POINTER(ctypes.c_double))\n",
    "z_ptr = z.ctypes.data_as(ctypes.POINTER(ctypes.c_double))\n",
    "epsilon = 1e-8\n",
    "status = clib.EIQP(Q_ptr,c_ptr,A_ptr,b_ptr,epsilon,n,m,z_ptr)\n",
    "\n",
    "# Last, show the result\n",
    "print(status)\n",
    "print(z)\n"
   ]
  }
 ],
 "metadata": {
  "kernelspec": {
   "display_name": "Python 3",
   "language": "python",
   "name": "python3"
  },
  "language_info": {
   "codemirror_mode": {
    "name": "ipython",
    "version": 3
   },
   "file_extension": ".py",
   "mimetype": "text/x-python",
   "name": "python",
   "nbconvert_exporter": "python",
   "pygments_lexer": "ipython3",
   "version": "3.10.12"
  }
 },
 "nbformat": 4,
 "nbformat_minor": 2
}
